{
  "nbformat": 4,
  "nbformat_minor": 0,
  "metadata": {
    "colab": {
      "provenance": [],
      "mount_file_id": "1MMDPlAO3cLCeL1wBMnJZGbTM-9Z8lYBB",
      "authorship_tag": "ABX9TyP5HusYsegIllo2bzCXB3zH",
      "include_colab_link": true
    },
    "kernelspec": {
      "name": "python3",
      "display_name": "Python 3"
    },
    "language_info": {
      "name": "python"
    }
  },
  "cells": [
    {
      "cell_type": "markdown",
      "metadata": {
        "id": "view-in-github",
        "colab_type": "text"
      },
      "source": [
        "<a href=\"https://colab.research.google.com/github/shreevigneshs/UCSC-243/blob/main/assignments/1_new.ipynb\" target=\"_parent\"><img src=\"https://colab.research.google.com/assets/colab-badge.svg\" alt=\"Open In Colab\"/></a>"
      ]
    },
    {
      "cell_type": "code",
      "execution_count": 1,
      "metadata": {
        "id": "NOMInkNmvIRP"
      },
      "outputs": [],
      "source": [
        "from typing import List\n",
        "import re\n",
        "import string\n",
        "\n",
        "import torch\n",
        "import torchtext\n",
        "from torch.utils.data import Dataset, DataLoader\n",
        "from torchtext.data.utils import get_tokenizer\n",
        "from torchtext.vocab import Vocab\n",
        "import torch.nn as nn\n",
        "import torch.optim as optim\n",
        "import torch.nn.functional as F\n",
        "\n",
        "import numpy as np\n",
        "import pandas as pd\n",
        "from collections import Counter\n",
        "\n",
        "from tqdm import tqdm"
      ]
    },
    {
      "cell_type": "code",
      "source": [
        "# df = pd.read_csv(\"/content/drive/MyDrive/NLP243/assignments/1/hw1_train-1.csv\")\n",
        "# df[\"split\"] = \"train\"\n",
        "# df.columns = [\"id\", \"text\", \"labels\", \"split\"]\n",
        "# df.labels = df.labels.replace(np.nan, \"none\", regex=True)"
      ],
      "metadata": {
        "id": "RsKHjHG1vPvp"
      },
      "execution_count": 2,
      "outputs": []
    },
    {
      "cell_type": "code",
      "source": [
        "# np.random.seed(20221002)\n",
        "# train_proportion = 0.80\n",
        "# val_proportion = 0.20"
      ],
      "metadata": {
        "id": "MjU1vppAvR1L"
      },
      "execution_count": 3,
      "outputs": []
    },
    {
      "cell_type": "code",
      "source": [
        "# item_list = list(row.to_dict() for _, row in df.iterrows())\n",
        "# np.random.shuffle(item_list)"
      ],
      "metadata": {
        "id": "FYzJSbgPvhxl"
      },
      "execution_count": 4,
      "outputs": []
    },
    {
      "cell_type": "code",
      "source": [
        "# # Create split data\n",
        "# final_list = []\n",
        "\n",
        "# n_total = len(item_list)\n",
        "# n_train = int(train_proportion * n_total)\n",
        "# n_val = int(val_proportion * n_total)\n",
        "\n",
        "# # Give data point a split attribute\n",
        "# for item in item_list[:n_train]:\n",
        "#   item['split'] = 'train'\n",
        "    \n",
        "# for item in item_list[n_train:n_train+n_val+1]:\n",
        "#   item['split'] = 'val'\n",
        "\n",
        "# # Add to final list\n",
        "# final_list.extend(item_list)\n",
        "\n",
        "# final_df = pd.DataFrame(final_list)"
      ],
      "metadata": {
        "id": "aXS4bQjlvUPy"
      },
      "execution_count": 5,
      "outputs": []
    },
    {
      "cell_type": "code",
      "source": [
        "# print(final_df)"
      ],
      "metadata": {
        "id": "Vhmy-pm_vU7B"
      },
      "execution_count": 6,
      "outputs": []
    },
    {
      "cell_type": "code",
      "source": [
        "# def preprocess_text(text):\n",
        "#   text = text.lower()\n",
        "#   text = re.sub(r\"([.,!?])\", r\" \\1 \", text)\n",
        "#   text = re.sub(r\"[^a-zA-Z.,!?]+\", r\" \", text)\n",
        "#   return text\n",
        "\n",
        "# final_df.text = final_df.text.apply(preprocess_text)"
      ],
      "metadata": {
        "id": "NqCWeNd-vnhL"
      },
      "execution_count": 7,
      "outputs": []
    },
    {
      "cell_type": "code",
      "source": [
        "# print(final_df.text)"
      ],
      "metadata": {
        "id": "YH_fVhb_voes"
      },
      "execution_count": 8,
      "outputs": []
    },
    {
      "cell_type": "code",
      "source": [],
      "metadata": {
        "id": "qVLhFH2E23Gc"
      },
      "execution_count": 8,
      "outputs": []
    },
    {
      "cell_type": "code",
      "source": [
        "# final_df.to_csv(\"/content/drive/MyDrive/NLP243/assignments/1/clean_hw1_train-1.csv\")"
      ],
      "metadata": {
        "id": "m1DRFfcF9mEv"
      },
      "execution_count": 9,
      "outputs": []
    },
    {
      "cell_type": "code",
      "source": [],
      "metadata": {
        "id": "cJKFP8Pl9mTh"
      },
      "execution_count": 9,
      "outputs": []
    },
    {
      "cell_type": "code",
      "source": [
        "class Vocabulary(object):\n",
        "    \"\"\"Class to process text and extract Vocabulary for mapping\"\"\"\n",
        "\n",
        "    def __init__(self, token_to_idx=None, add_unk=True, unk_token=\"<unk>\"):\n",
        "        \"\"\"\n",
        "        Args:\n",
        "            token_to_idx (dict): a pre-existing map of tokens to indices\n",
        "            add_unk (bool): a flag that indicates whether to add the UNK token\n",
        "            unk_token (str): the UNK token to add into the Vocabulary\n",
        "        \"\"\"\n",
        "\n",
        "        if token_to_idx is None:\n",
        "            token_to_idx = {}\n",
        "        self._token_to_idx = token_to_idx\n",
        "\n",
        "        self._idx_to_token = {idx: token \n",
        "                              for token, idx in self._token_to_idx.items()}\n",
        "\n",
        "        self._add_unk = add_unk\n",
        "        self._unk_token = unk_token\n",
        "        \n",
        "        self.unk_index = -1\n",
        "        if add_unk:\n",
        "            self.unk_index = self.add_token(unk_token) \n",
        "        \n",
        "        \n",
        "    def to_serializable(self):\n",
        "        \"\"\" returns a dictionary that can be serialized \"\"\"\n",
        "        return {'token_to_idx': self._token_to_idx, \n",
        "                'add_unk': self._add_unk, \n",
        "                'unk_token': self._unk_token}\n",
        "\n",
        "    @classmethod\n",
        "    def from_serializable(cls, contents):\n",
        "        \"\"\" instantiates the Vocabulary from a serialized dictionary \"\"\"\n",
        "        return cls(**contents)\n",
        "\n",
        "    def add_token(self, token):\n",
        "        \"\"\"Update mapping dicts based on the token.\n",
        "\n",
        "        Args:\n",
        "            token (str): the item to add into the Vocabulary\n",
        "        Returns:\n",
        "            index (int): the integer corresponding to the token\n",
        "        \"\"\"\n",
        "        if token in self._token_to_idx:\n",
        "            index = self._token_to_idx[token]\n",
        "        else:\n",
        "            index = len(self._token_to_idx)\n",
        "            self._token_to_idx[token] = index\n",
        "            self._idx_to_token[index] = token\n",
        "        return index\n",
        "\n",
        "    def lookup_token(self, token):\n",
        "        \"\"\"Retrieve the index associated with the token \n",
        "          or the UNK index if token isn't present.\n",
        "        \n",
        "        Args:\n",
        "            token (str): the token to look up \n",
        "        Returns:\n",
        "            index (int): the index corresponding to the token\n",
        "        Notes:\n",
        "            `unk_index` needs to be >=0 (having been added into the Vocabulary) \n",
        "              for the UNK functionality \n",
        "        \"\"\"\n",
        "        if self._add_unk:\n",
        "            return self._token_to_idx.get(token, self.unk_index)\n",
        "        else:\n",
        "            return self._token_to_idx[token]\n",
        "\n",
        "    def lookup_index(self, index):\n",
        "        \"\"\"Return the token associated with the index\n",
        "        \n",
        "        Args: \n",
        "            index (int): the index to look up\n",
        "        Returns:\n",
        "            token (str): the token corresponding to the index\n",
        "        Raises:\n",
        "            KeyError: if the index is not in the Vocabulary\n",
        "        \"\"\"\n",
        "        if index not in self._idx_to_token:\n",
        "            raise KeyError(\"the index (%d) is not in the Vocabulary\" % index)\n",
        "        return self._idx_to_token[index]\n",
        "\n",
        "    def __str__(self):\n",
        "        return \"<Vocabulary(size=%d)>\" % len(self)\n",
        "\n",
        "    def __len__(self):\n",
        "        return len(self._token_to_idx)"
      ],
      "metadata": {
        "id": "c-ANVXt81C7r"
      },
      "execution_count": 10,
      "outputs": []
    },
    {
      "cell_type": "code",
      "source": [],
      "metadata": {
        "id": "TLvY6Nk92vGL"
      },
      "execution_count": 10,
      "outputs": []
    },
    {
      "cell_type": "code",
      "source": [
        "class Vectorizer(object):\n",
        "    \"\"\" The Vectorizer which coordinates the Vocabularies and puts them to use\"\"\"\n",
        "    def __init__(self, text_vocab):\n",
        "        \"\"\"\n",
        "        Args:\n",
        "            review_vocab (Vocabulary): maps words to integers\n",
        "            rating_vocab (Vocabulary): maps class labels to integers\n",
        "        \"\"\"\n",
        "        self.text_vocab = text_vocab\n",
        "        # self.label_vocab = label_vocab\n",
        "\n",
        "    def vectorize(self, text):\n",
        "        \"\"\"Create a collapsed one-hit vector for the review\n",
        "        \n",
        "        Args:\n",
        "            review (str): the review\n",
        "        Returns:\n",
        "            one_hot (np.ndarray): the collapsed one-hot encoding\n",
        "        \"\"\"\n",
        "        one_hot = np.zeros(len(self.text_vocab), dtype=np.float32)\n",
        "        \n",
        "        for token in text.split(\" \"):\n",
        "            if token not in string.punctuation:\n",
        "                one_hot[self.text_vocab.lookup_token(token)] = 1\n",
        "\n",
        "        return one_hot\n",
        "\n",
        "    @classmethod\n",
        "    def from_dataframe(cls, df, cutoff=100):\n",
        "        \"\"\"Instantiate the vectorizer from the dataset dataframe\n",
        "        \n",
        "        Args:\n",
        "            review_df (pandas.DataFrame): the review dataset\n",
        "            cutoff (int): the parameter for frequency-based filtering\n",
        "        Returns:\n",
        "            an instance of the ReviewVectorizer\n",
        "        \"\"\"\n",
        "        text_vocab = Vocabulary(add_unk=True)\n",
        "        \n",
        "        # label_vocab = Vocabulary(add_unk=False)\n",
        "        \n",
        "        # # Add ratings\n",
        "        # for rating in sorted(set(df.labels)):\n",
        "        #     rating_vocab.add_token(rating)\n",
        "\n",
        "        # Add top words if count > provided count\n",
        "        word_counts = Counter()\n",
        "        for text in df.text:\n",
        "            for word in text.split(\" \"):\n",
        "                if word not in string.punctuation:\n",
        "                    word_counts[word] += 1\n",
        "        \n",
        "        print(word_counts.most_common(100))\n",
        "\n",
        "        for word, count in dict(word_counts.most_common(cutoff)).items():\n",
        "            text_vocab.add_token(word)\n",
        "        \n",
        "        # for word, count in word_counts.items():\n",
        "        #     if count > cutoff:\n",
        "        #         text_vocab.add_token(word)\n",
        "\n",
        "        # return cls(review_vocab, rating_vocab)\n",
        "        \n",
        "        return cls(text_vocab)\n",
        "\n",
        "    @classmethod\n",
        "    def from_serializable(cls, contents):\n",
        "        \"\"\"Intantiate a ReviewVectorizer from a serializable dictionary\n",
        "        \n",
        "        Args:\n",
        "            contents (dict): the serializable dictionary\n",
        "        Returns:\n",
        "            an instance of the ReviewVectorizer class\n",
        "        \"\"\"\n",
        "        text_vocab = Vocabulary.from_serializable(contents['text_vocab'])\n",
        "        \n",
        "        # rating_vocab =  Vocabulary.from_serializable(contents['rating_vocab'])\n",
        "\n",
        "        # return cls(review_vocab=review_vocab, rating_vocab=rating_vocab)\n",
        "\n",
        "        return cls(text_vocab=text_vocab)\n",
        "\n",
        "    def to_serializable(self):\n",
        "        \"\"\"Create the serializable dictionary for caching\n",
        "        \n",
        "        Returns:\n",
        "            contents (dict): the serializable dictionary\n",
        "        \"\"\"\n",
        "        # return {'review_vocab': self.review_vocab.to_serializable(),\n",
        "        #         'rating_vocab': self.rating_vocab.to_serializable()}\n",
        "\n",
        "        return {'text_vocab': self.text_vocab.to_serializable()}"
      ],
      "metadata": {
        "id": "V2qK7fR92v0S"
      },
      "execution_count": 11,
      "outputs": []
    },
    {
      "cell_type": "code",
      "source": [
        "# Label Indexer\n",
        "# For converting labels into indices 0 - L1, 1 - L2\n",
        "\n",
        "class LabelIndexer(object):\n",
        "    def __init__(self, labels):\n",
        "\n",
        "        # self.labels = list(set([_split_label for label in movie_df.labels.unique().flatten() for _split_label in label.split()]))\n",
        "        \n",
        "        self.labels = labels\n",
        "        self.n_labels = len(self.labels)\n",
        "        self.label2idx = {label: i for i, label in enumerate(self.labels)}\n",
        "        self.idx2label = {i:label for label, i in self.label2idx.items()}\n",
        "\n",
        "    def encode(self, y):\n",
        "        one_hot_encoded = np.zeros(self.n_labels, dtype=int)\n",
        "        normalized_label = list(set([_split_label for _split_label in y.split()]))\n",
        "        for _label in normalized_label:\n",
        "          one_hot_encoded[self.label2idx[_label]] = 1.\n",
        "        return one_hot_encoded\n",
        "\n",
        "    def encode_batch(self, ys):\n",
        "        return torch.LongTensor([self.encode(y) for y in ys])\n",
        "    \n",
        "    @classmethod\n",
        "    def from_dataframe(cls, df):\n",
        "        labels = list(set([_split_label for label in df.labels.unique().flatten() for _split_label in label.split()]))\n",
        "        return cls(labels)\n",
        "    \n",
        "    @classmethod\n",
        "    def from_serializable(cls, contents):\n",
        "        \"\"\"Intantiate a ReviewVectorizer from a serializable dictionary\n",
        "        \n",
        "        Args:\n",
        "            contents (dict): the serializable dictionary\n",
        "        Returns:\n",
        "            an instance of the ReviewVectorizer class\n",
        "        \"\"\"\n",
        "        labels = LabelIndexer.from_serializable(contents['labels'])\n",
        "        \n",
        "        # rating_vocab =  Vocabulary.from_serializable(contents['rating_vocab'])\n",
        "\n",
        "        # return cls(review_vocab=review_vocab, rating_vocab=rating_vocab)\n",
        "\n",
        "        return cls(labels=labels)\n",
        "\n",
        "    def to_serializable(self):\n",
        "        \"\"\"Create the serializable dictionary for caching\n",
        "        \n",
        "        Returns:\n",
        "            contents (dict): the serializable dictionary\n",
        "        \"\"\"\n",
        "        # return {'review_vocab': self.review_vocab.to_serializable(),\n",
        "        #         'rating_vocab': self.rating_vocab.to_serializable()}\n",
        "\n",
        "        return {'labels': self.labels.to_serializable()}\n"
      ],
      "metadata": {
        "id": "L1aZc5KqzJm9"
      },
      "execution_count": 12,
      "outputs": []
    },
    {
      "cell_type": "code",
      "source": [],
      "metadata": {
        "id": "KSkTRJc-7ktr"
      },
      "execution_count": 12,
      "outputs": []
    },
    {
      "cell_type": "code",
      "source": [
        "class MovieDataset(Dataset):\n",
        "    def __init__(self, movie_df, vectorizer, label_indexer):\n",
        "        \"\"\"\n",
        "        Args:\n",
        "            movie_df (pandas.DataFrame): the dataset\n",
        "            vectorizer (ReviewVectorizer): vectorizer instantiated from dataset\n",
        "        \"\"\"\n",
        "        self.movie_df = movie_df\n",
        "        self._vectorizer = vectorizer\n",
        "        self._label_indexer = label_indexer\n",
        "\n",
        "        self.train_df = self.movie_df[self.movie_df.split=='train']\n",
        "        self.train_size = len(self.train_df)\n",
        "\n",
        "        self.val_df = self.movie_df[self.movie_df.split=='val']\n",
        "        self.validation_size = len(self.val_df)\n",
        "\n",
        "        self._lookup_dict = {'train': (self.train_df, self.train_size),\n",
        "                             'val': (self.val_df, self.validation_size)}\n",
        "\n",
        "        self.set_split('train')\n",
        "\n",
        "    @classmethod\n",
        "    def load_dataset_and_make_vectorizer_and_label_indexer(cls, movie_csv):\n",
        "        \"\"\"Load dataset and make a new vectorizer from scratch\n",
        "        \n",
        "        Args:\n",
        "            review_csv (str): location of the dataset\n",
        "        Returns:\n",
        "            an instance of ReviewDataset\n",
        "        \"\"\"\n",
        "        movie_df = pd.read_csv(movie_csv)\n",
        "\n",
        "\n",
        "\n",
        "        return cls(movie_df, Vectorizer.from_dataframe(movie_df), LabelIndexer.from_dataframe(movie_df))\n",
        "\n",
        "    def get_vectorizer(self):\n",
        "        \"\"\" returns the vectorizer \"\"\"\n",
        "        return self._vectorizer\n",
        "\n",
        "    def set_split(self, split=\"train\"):\n",
        "        \"\"\" selects the splits in the dataset using a column in the dataframe \n",
        "        \n",
        "        Args:\n",
        "            split (str): one of \"train\" or \"val\"\n",
        "        \"\"\"\n",
        "        self._target_split = split\n",
        "        self._target_df, self._target_size = self._lookup_dict[split]\n",
        "\n",
        "    def __len__(self):\n",
        "        return self._target_size\n",
        "\n",
        "    def __getitem__(self, index):\n",
        "        \"\"\"the primary entry point method for PyTorch datasets\n",
        "        \n",
        "        Args:\n",
        "            index (int): the index to the data point \n",
        "        Returns:\n",
        "            a dict of the data point's features (x_data) and label (y_target)\n",
        "        \"\"\"\n",
        "        row = self._target_df.iloc[index]\n",
        "\n",
        "        text_vector = \\\n",
        "            self._vectorizer.vectorize(row.text)\n",
        "\n",
        "        label_index = \\\n",
        "            self._label_indexer.encode(row.labels)\n",
        "\n",
        "        return {'x_data': text_vector,\n",
        "                'y_target': label_index}\n",
        "\n",
        "    def get_num_batches(self, batch_size):\n",
        "        \"\"\"Given a batch size, return the number of batches in the dataset\n",
        "        \n",
        "        Args:\n",
        "            batch_size (int)\n",
        "        Returns:\n",
        "            number of batches in the dataset\n",
        "        \"\"\"\n",
        "        return len(self) // batch_size"
      ],
      "metadata": {
        "id": "Vpq2o963wvkT"
      },
      "execution_count": 13,
      "outputs": []
    },
    {
      "cell_type": "code",
      "source": [],
      "metadata": {
        "id": "pdnYLunK7k-a"
      },
      "execution_count": 13,
      "outputs": []
    },
    {
      "cell_type": "code",
      "source": [
        "dataset = MovieDataset.load_dataset_and_make_vectorizer_and_label_indexer(movie_csv=\"/content/drive/MyDrive/NLP243/assignments/1/clean_hw1_train-1.csv\")\n",
        "vectorizer = dataset.get_vectorizer()"
      ],
      "metadata": {
        "colab": {
          "base_uri": "https://localhost:8080/"
        },
        "id": "T_kLWmpe8N40",
        "outputId": "e8ebe22e-d5b2-42f1-f0f4-e02a4ba62db8"
      },
      "execution_count": 14,
      "outputs": [
        {
          "output_type": "stream",
          "name": "stdout",
          "text": [
            "[('the', 919), ('movies', 873), ('of', 422), ('movie', 407), ('me', 385), ('in', 377), ('what', 351), ('show', 329), ('for', 318), ('find', 238), ('who', 236), ('i', 233), ('is', 215), ('to', 194), ('by', 177), ('list', 173), ('a', 167), ('was', 160), ('produced', 156), ('about', 141), ('directed', 139), ('are', 104), ('want', 100), ('with', 97), ('all', 95), ('can', 93), ('director', 93), ('information', 87), ('when', 86), ('films', 84), ('will', 81), ('did', 78), ('see', 77), ('search', 77), ('you', 76), ('rated', 75), ('made', 73), ('spielberg', 72), ('rating', 70), ('that', 70), ('released', 68), ('how', 68), ('from', 68), ('avatar', 66), ('on', 65), ('pg', 64), ('finding', 64), ('nemo', 64), ('s', 64), ('has', 60), ('please', 60), ('language', 57), ('look', 57), ('budget', 53), ('producer', 51), ('like', 49), ('some', 48), ('ferrell', 47), ('up', 47), ('tom', 46), ('cast', 46), ('steven', 45), ('would', 44), ('get', 43), ('dancing', 43), ('date', 42), ('info', 42), ('have', 42), ('know', 41), ('which', 41), ('dirty', 40), ('genre', 40), ('and', 39), ('release', 39), ('life', 39), ('tell', 39), ('g', 38), ('spanish', 37), ('beautiful', 36), ('hitch', 36), ('give', 36), ('name', 35), ('need', 35), ('star', 34), ('black', 33), ('r', 33), ('watch', 32), ('french', 31), ('july', 30), ('country', 30), ('crew', 29), ('out', 28), ('at', 28), ('much', 27), ('starred', 27), ('many', 27), ('film', 27), ('hanks', 26), ('thirteen', 26), ('actor', 26)]\n"
          ]
        }
      ]
    },
    {
      "cell_type": "code",
      "source": [
        "# data loader\n",
        "\n",
        "def generate_batches(dataset, batch_size, shuffle=True,\n",
        "                     drop_last=True, device=\"cpu\"):\n",
        "    \"\"\"\n",
        "    A generator function which wraps the PyTorch DataLoader. It will \n",
        "      ensure each tensor is on the write device location.\n",
        "    \"\"\"\n",
        "    dataloader = DataLoader(dataset=dataset, batch_size=batch_size,\n",
        "                            shuffle=shuffle, drop_last=drop_last)\n",
        "\n",
        "    for data_dict in dataloader:\n",
        "        out_data_dict = {}\n",
        "        for name, tensor in data_dict.items():\n",
        "            out_data_dict[name] = data_dict[name].to(device)\n",
        "        yield out_data_dict"
      ],
      "metadata": {
        "id": "WwxCl1r-7vcf"
      },
      "execution_count": 15,
      "outputs": []
    },
    {
      "cell_type": "code",
      "source": [
        "batched_data = generate_batches(dataset=dataset, batch_size=2)"
      ],
      "metadata": {
        "id": "XE3i9iuPAtsC"
      },
      "execution_count": 16,
      "outputs": []
    },
    {
      "cell_type": "code",
      "source": [
        "# Zipping the dataloader with range(N) lets us only print the first N batches\n",
        "for _, batch in zip(range(5), batched_data):\n",
        "    print(batch[\"x_data\"].shape, batch[\"y_target\"].shape)\n",
        "    # Do something here; maybe print the batch to see if it looks right to you?\n",
        "    # print(batch.shape)"
      ],
      "metadata": {
        "colab": {
          "base_uri": "https://localhost:8080/"
        },
        "id": "Z2UboJ6m8Ajn",
        "outputId": "c8e6a64b-a7dd-4902-a912-753ece1473d7"
      },
      "execution_count": 17,
      "outputs": [
        {
          "output_type": "stream",
          "name": "stdout",
          "text": [
            "torch.Size([2, 101]) torch.Size([2, 19])\n",
            "torch.Size([2, 101]) torch.Size([2, 19])\n",
            "torch.Size([2, 101]) torch.Size([2, 19])\n",
            "torch.Size([2, 101]) torch.Size([2, 19])\n",
            "torch.Size([2, 101]) torch.Size([2, 19])\n"
          ]
        }
      ]
    },
    {
      "cell_type": "code",
      "source": [],
      "metadata": {
        "id": "wKKNtICXEk7f"
      },
      "execution_count": null,
      "outputs": []
    },
    {
      "cell_type": "code",
      "source": [],
      "metadata": {
        "id": "dJ_q3-gEElR6"
      },
      "execution_count": null,
      "outputs": []
    },
    {
      "cell_type": "code",
      "source": [],
      "metadata": {
        "id": "KHM5XDM5ElfR"
      },
      "execution_count": null,
      "outputs": []
    }
  ]
}