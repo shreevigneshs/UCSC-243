{
  "nbformat": 4,
  "nbformat_minor": 0,
  "metadata": {
    "colab": {
      "provenance": [],
      "authorship_tag": "ABX9TyOWujh0nwMltqeTV+eD9ZkD",
      "include_colab_link": true
    },
    "kernelspec": {
      "name": "python3",
      "display_name": "Python 3"
    },
    "language_info": {
      "name": "python"
    }
  },
  "cells": [
    {
      "cell_type": "markdown",
      "metadata": {
        "id": "view-in-github",
        "colab_type": "text"
      },
      "source": [
        "<a href=\"https://colab.research.google.com/github/shreevigneshs/UCSC-243/blob/main/quest2/244_quest_2.ipynb\" target=\"_parent\"><img src=\"https://colab.research.google.com/assets/colab-badge.svg\" alt=\"Open In Colab\"/></a>"
      ]
    },
    {
      "cell_type": "code",
      "execution_count": null,
      "metadata": {
        "id": "_RZABG29RPjp"
      },
      "outputs": [],
      "source": [
        "!pip install langchain\n",
        "!pip install openai"
      ]
    },
    {
      "cell_type": "code",
      "source": [
        "import os\n",
        "import openai\n",
        "from langchain.llms import OpenAI\n",
        "from langchain import PromptTemplate\n",
        "from langchain.chains import LLMChain\n",
        "from langchain.chains.base import Chain\n",
        "\n",
        "from typing import Dict, List\n",
        "import json\n",
        "import random\n",
        "import gdown"
      ],
      "metadata": {
        "id": "aGWa4G70Rqti"
      },
      "execution_count": null,
      "outputs": []
    },
    {
      "cell_type": "code",
      "source": [
        "%env OPENAI_API_KEY = \"\""
      ],
      "metadata": {
        "colab": {
          "base_uri": "https://localhost:8080/"
        },
        "id": "O1bjA45cRxoa",
        "outputId": "8b6a3e55-1107-4ae8-c6ec-c55babb01517"
      },
      "execution_count": null,
      "outputs": [
        {
          "output_type": "stream",
          "name": "stdout",
          "text": [
            "env: OPENAI_API_KEY=\"\"\n"
          ]
        }
      ]
    },
    {
      "cell_type": "code",
      "source": [],
      "metadata": {
        "id": "GOuwCAnQVPxG"
      },
      "execution_count": null,
      "outputs": []
    },
    {
      "cell_type": "markdown",
      "source": [
        "Create openai language object using text-davinci-003 model and temperature 0.7"
      ],
      "metadata": {
        "id": "7FV3S4YGVDAM"
      }
    },
    {
      "cell_type": "code",
      "source": [
        "llm = OpenAI(model_name=\"text-davinci-003\", temperature=0.7)"
      ],
      "metadata": {
        "id": "Py6qHE-gSour"
      },
      "execution_count": null,
      "outputs": []
    },
    {
      "cell_type": "code",
      "source": [],
      "metadata": {
        "id": "683SnMKJVCmH"
      },
      "execution_count": null,
      "outputs": []
    },
    {
      "cell_type": "markdown",
      "source": [
        "\n",
        "4) Implement problem 3 using LangChain's LLM and the PromptTemplate classes and check if it\n",
        "works."
      ],
      "metadata": {
        "id": "osJcXmDKVBq_"
      }
    },
    {
      "cell_type": "code",
      "source": [
        "ten_name_prompt = PromptTemplate(\n",
        "    input_variables=[\"country\"],\n",
        "    template=\"Can you come up with ten baby girl names from {country} that are unique and interesting?\\n\\n\",\n",
        ")"
      ],
      "metadata": {
        "id": "kVDUD39WgL_s"
      },
      "execution_count": null,
      "outputs": []
    },
    {
      "cell_type": "code",
      "source": [
        "ten_name_prompt_result = llm(ten_name_prompt.format(country=\"India\"))"
      ],
      "metadata": {
        "id": "jz7GfTuRUkP4"
      },
      "execution_count": null,
      "outputs": []
    },
    {
      "cell_type": "code",
      "source": [
        "print(ten_name_prompt_result.strip('\\n'))"
      ],
      "metadata": {
        "colab": {
          "base_uri": "https://localhost:8080/"
        },
        "id": "52sG-97PUsCU",
        "outputId": "7a909235-c929-4b0c-96bb-1a9be76db714"
      },
      "execution_count": null,
      "outputs": [
        {
          "output_type": "stream",
          "name": "stdout",
          "text": [
            "1. Aaradhya\n",
            "2. Ananya\n",
            "3. Anaya\n",
            "4. Eshana\n",
            "5. Ishaani\n",
            "6. Jiya\n",
            "7. Kajal\n",
            "8. Meher\n",
            "9. Nishi\n",
            "10. Prisha\n"
          ]
        }
      ]
    },
    {
      "cell_type": "markdown",
      "source": [
        "5) Create a new prompt that takes a baby name and the country of origin, and comes up with a short (made up) biography."
      ],
      "metadata": {
        "id": "CL0lShNaVXYo"
      }
    },
    {
      "cell_type": "code",
      "source": [
        "biography_prompt = PromptTemplate(\n",
        "    input_variables=[\"baby_name\", \"country\"],\n",
        "    template=\"Create a short biography given for baby {baby_name} from {country}\\n\\n\",\n",
        ")"
      ],
      "metadata": {
        "id": "7PkRT4mRVhOp"
      },
      "execution_count": null,
      "outputs": []
    },
    {
      "cell_type": "code",
      "source": [
        "biography_prompt_result = llm(biography_prompt.format(baby_name=\"Zara\", country=\"India\"))"
      ],
      "metadata": {
        "id": "ez1nAZ_cYO5x"
      },
      "execution_count": null,
      "outputs": []
    },
    {
      "cell_type": "code",
      "source": [
        "print(biography_prompt_result.strip('\\n'))"
      ],
      "metadata": {
        "colab": {
          "base_uri": "https://localhost:8080/"
        },
        "id": "EVrEysF3YgP9",
        "outputId": "20084898-3d2e-4ef9-cda5-eb7736d419e9"
      },
      "execution_count": null,
      "outputs": [
        {
          "output_type": "stream",
          "name": "stdout",
          "text": [
            "Baby Zara is a wonderful little girl from India. She was born in October 2020 and has already brought a lot of joy to her family. She loves to explore and play in her crib, and her parents are always amazed at her curiosity and energy. Her favorite activities include listening to music, playing with her parents, and exploring the world around her. She loves to laugh and is always eager to learn new things. She has a bright future ahead of her and her parents are excited to watch her grow.\n"
          ]
        }
      ]
    },
    {
      "cell_type": "code",
      "source": [],
      "metadata": {
        "id": "BEKuXFweYu7l"
      },
      "execution_count": null,
      "outputs": []
    },
    {
      "cell_type": "markdown",
      "source": [
        "6) Follow the LangChain example to create a custom chain class, to create class that returns a list of dicts of {baby_name, biography}. You have to use the prompts you created in 4 and 5."
      ],
      "metadata": {
        "id": "p10zod_TYvBj"
      }
    },
    {
      "cell_type": "code",
      "source": [
        "class BiographyGivenCountry(Chain):\n",
        "    chain_1: LLMChain\n",
        "    chain_2: LLMChain\n",
        "    input_key: str = \"country\"\n",
        "    output_key: str = \"biographies\"\n",
        "\n",
        "    @property\n",
        "    def input_keys(self) -> List[str]:\n",
        "        return [self.input_key]\n",
        "\n",
        "    @property\n",
        "    def output_keys(self) -> List[str]:\n",
        "        return [self.output_key]\n",
        "\n",
        "    def _call(self, inputs: Dict[str, str]) -> Dict[str, str]:\n",
        "        _input_1 = inputs[self.input_key]\n",
        "        _output_1 = self.chain_1.run(_input_1)\n",
        "        _names = [_x.split('.')[-1].strip() for _x in _output_1.strip('\\n').split('\\n')]\n",
        "        biographies = {}\n",
        "        for _name in _names:\n",
        "          _biography = self.chain_2.run({\"baby_name\": _name, \"country\": _input_1})\n",
        "          biographies[_name] = _biography.strip('\\n')\n",
        "        return {self.output_key: biographies}"
      ],
      "metadata": {
        "id": "sk-nfBD4Y32a"
      },
      "execution_count": null,
      "outputs": []
    },
    {
      "cell_type": "code",
      "source": [
        "chain_1 = LLMChain(llm=llm, prompt=ten_name_prompt)\n",
        "chain_2 = LLMChain(llm=llm, prompt=biography_prompt)\n",
        "biographies = BiographyGivenCountry(chain_1=chain_1, chain_2=chain_2)"
      ],
      "metadata": {
        "id": "kAwq_nsyhM1s"
      },
      "execution_count": null,
      "outputs": []
    },
    {
      "cell_type": "code",
      "source": [
        "biographies_output = biographies.run(\"India\")"
      ],
      "metadata": {
        "id": "c9dFq-UnvuND"
      },
      "execution_count": null,
      "outputs": []
    },
    {
      "cell_type": "code",
      "source": [
        "print('Output')\n",
        "for _key, _value in biographies_output.items():\n",
        "  print('{}: {}'.format(_key, _value))"
      ],
      "metadata": {
        "colab": {
          "base_uri": "https://localhost:8080/"
        },
        "id": "-QJrQydIvx_v",
        "outputId": "b00dd4d0-90e5-4072-e9dc-90242f5c6ebb"
      },
      "execution_count": null,
      "outputs": [
        {
          "output_type": "stream",
          "name": "stdout",
          "text": [
            "Output\n",
            "Amaya: Amaya is a baby girl from India who loves to explore the world around her. She loves to sing, dance, and play with her toys. Her favorite thing to do is to explore her environment, and she has a curious mind that loves to ask questions. Amaya is a friendly and happy baby that loves to make new friends. She loves music, enjoys outdoor activities, and loves to learn new things. Amaya is an adventurous spirit that loves to explore and experience new things.\n",
            "Aaliyah: Aaliyah is an energetic and curious baby from India. She loves exploring her world and learning new things. She has a bright, bubbly personality and loves to laugh and play. Her favorite activities include singing, dancing, reading, and playing with her toys. She loves spending time with her family and enjoys being outdoors. Aaliyah is a bright and determined young girl who is sure to have a bright future ahead of her.\n",
            "Neha: Neha is a newborn baby from India. She was born in November 2020 into a loving family in a small village. Neha enjoys spending her days being cuddled, playing with her siblings, and listening to her mother's lullabies. She loves being outside, exploring her garden, and taking in all of the sights, sounds, and smells of her home country. Neha is a happy, active baby and loves being around people. She is already showing signs of her future passion for learning, music, and exploring the world. Neha's parents are very proud of her and are excited to watch her grow.\n",
            "Anaya: Anaya is a beautiful baby girl from India. She was born in May of 2020 and has brought immense joy to her family. She loves spending time with her parents and taking long walks in the park. Anaya is a keen observer and loves learning new things. She has a bright future ahead of her and her parents are sure she will make them proud one day.\n",
            "Arya: Arya is a baby from India who loves to laugh and explore. She loves to learn new things and is constantly curious about the world around her. She has a passion for playing, singing, and exploring the outdoors. She loves spending time with her family and friends and enjoys playing with her siblings. She is a very loving and caring little girl who loves to laugh and share her energy with those around her. She is very smart and is always eager to learn new things.\n",
            "Diya: Diya is a 2-month-old baby from India. She loves being around people and loves to explore. Diya loves to listen to music and loves to play with her toys. She loves to be held and cuddled and loves to be the center of attention. Diya loves to laugh and smile and loves to learn new things. She is a very curious and inquisitive baby who loves to discover the world around her.\n",
            "Aarohi: Aarohi is a baby from India who loves to explore the world around her. She is always on the move, discovering new things and making new friends. She loves to laugh and play, and loves to be around her family. Aarohi is a bright and curious little girl, and loves to learn new things. She is always up for an adventure, and loves to explore new places. She is an active, energetic and happy little one, and loves to make everyone around her smile.\n",
            "Pari: Pari is a bubbly baby girl born in India. She loves to spend time with her parents, playing with her toys and exploring her world. She loves to laugh and smile and is always the center of attention when she is around. She loves learning new things and loves to be read to. Pari loves to dance and sing and is often caught swaying to the music. She loves cuddles and kisses and enjoys spending time with her family. She is an adventurous and curious little girl who will bring joy to everyone she meets.\n",
            "Kaira: Kaira is a 6-month-old baby girl from India. She loves to giggle, smile and explore the world around her. She loves to be around people and is always curious to learn new things. Kaira is a happy and energetic little girl who loves to play and explore her surroundings. She loves cuddles, music and being around other children. She loves animals and enjoys being outdoors in the fresh air. Kaira is a bright and bubbly baby and is sure to bring joy to everyone she meets.\n",
            "Aashi: Aashi is a one-year-old baby from India. She loves to explore the world around her and is always curious to learn new things. She loves to giggle, smile, and make new friends. Aashi loves to play outdoors with her stuffed animals and toys, and is a very active little girl. She loves to listen to music and loves to dance. She loves to eat fruits and veggies and enjoys trying new foods. Aashi is a bundle of joy and loves to make everyone around her happy.\n"
          ]
        }
      ]
    },
    {
      "cell_type": "code",
      "source": [],
      "metadata": {
        "id": "xwuLoVso-05Y"
      },
      "execution_count": null,
      "outputs": []
    },
    {
      "cell_type": "markdown",
      "source": [
        "ArXiv Bulletin"
      ],
      "metadata": {
        "id": "SucHO1s6_WdT"
      }
    },
    {
      "cell_type": "code",
      "source": [
        "gdown.download('https://drive.google.com/uc?id=1_1oPRNSW7QWdlUs-APMV5Y7h6RxU_8gF')\n",
        "with open('cs.cl.sample100.json') as f:\n",
        "    data = f.readlines()\n",
        "parsed = [json.loads(x) for x in data]\n",
        "sample10 = random.choices(parsed, k=10)"
      ],
      "metadata": {
        "colab": {
          "base_uri": "https://localhost:8080/"
        },
        "id": "sK8a_Vip-1py",
        "outputId": "f8bd4add-4296-4a36-83bd-bcce370fbc55"
      },
      "execution_count": null,
      "outputs": [
        {
          "output_type": "stream",
          "name": "stderr",
          "text": [
            "Downloading...\n",
            "From: https://drive.google.com/uc?id=1_1oPRNSW7QWdlUs-APMV5Y7h6RxU_8gF\n",
            "To: /content/cs.cl.sample100.json\n",
            "100%|██████████| 135k/135k [00:00<00:00, 34.2MB/s]\n"
          ]
        }
      ]
    },
    {
      "cell_type": "code",
      "source": [
        "sample10[0]"
      ],
      "metadata": {
        "colab": {
          "base_uri": "https://localhost:8080/"
        },
        "id": "R7JiswU8_dH1",
        "outputId": "ba62283a-92e1-42cf-e10a-f134ef6c7e20"
      },
      "execution_count": null,
      "outputs": [
        {
          "output_type": "execute_result",
          "data": {
            "text/plain": [
              "{'id': 'cs/0512102',\n",
              " 'submitter': 'Andrij Rovenchak',\n",
              " 'authors': 'Solomija Buk and Andrij Rovenchak',\n",
              " 'title': 'Statistical Parameters of the Novel \"Perekhresni stezhky\" (\"The\\n  Cross-Paths\") by Ivan Franko',\n",
              " 'comments': '11 pages',\n",
              " 'journal-ref': 'Quantitative Linguistics 62: Exact methods in the study of\\n  language and text: dedicated to Professor Gabriel Altmann on the occasion of\\n  his 75th birthday / Ed. by P. Grzybek and R. Kohler (Berlin; New York: de\\n  Gruyter), 39-48 (2007)',\n",
              " 'doi': None,\n",
              " 'report-no': None,\n",
              " 'categories': 'cs.CL',\n",
              " 'license': None,\n",
              " 'abstract': '  In the paper, a complex statistical characteristics of a Ukrainian novel is\\ngiven for the first time. The distribution of word-forms with respect to their\\nsize is studied. The linguistic laws by Zipf-Mandelbrot and Altmann-Menzerath\\nare analyzed.\\n',\n",
              " 'versions': [{'version': 'v1', 'created': 'Wed, 28 Dec 2005 13:45:54 GMT'}],\n",
              " 'update_date': '2008-03-18',\n",
              " 'authors_parsed': [['Buk', 'Solomija', ''], ['Rovenchak', 'Andrij', '']]}"
            ]
          },
          "metadata": {},
          "execution_count": 34
        }
      ]
    },
    {
      "cell_type": "code",
      "source": [
        "why_to_read_prompt = PromptTemplate(\n",
        "    input_variables=[\"title\", \"abstract\"],\n",
        "    template=\"\"\"Given a paper and its abstract summarize why to read the paper.\\n\\Title:\\n{title}\\n\\nAbstract:\\n{abstract}\\n\\nWhy to read:\\n\",\n",
        "\"\"\"\n",
        ")"
      ],
      "metadata": {
        "id": "pqSQPNykFkgE"
      },
      "execution_count": null,
      "outputs": []
    },
    {
      "cell_type": "code",
      "source": [
        "why_to_read_prompt_result = {}\n",
        "for _sample in sample10:\n",
        "  _title = \" \".join(\" \".join(_sample['title'].strip('\\n').split('\\n')).split(\" \"))\n",
        "  _abstract = \" \".join(\" \".join(_sample['abstract'].strip('\\n').split('\\n')).split(\" \"))\n",
        "  _why_to_read_prompt_result = llm(why_to_read_prompt.format(title=_title, abstract=_abstract))\n",
        "  why_to_read_prompt_result[_title] = _why_to_read_prompt_result.strip()"
      ],
      "metadata": {
        "id": "EOdEdJEtHhni"
      },
      "execution_count": null,
      "outputs": []
    },
    {
      "cell_type": "code",
      "source": [
        "for _key, _value in why_to_read_prompt_result.items():\n",
        "  print('{}: {}'.format(_key, _value))"
      ],
      "metadata": {
        "colab": {
          "base_uri": "https://localhost:8080/"
        },
        "id": "Znx6h1R4J_r4",
        "outputId": "de4f0bb3-7cf7-4b8a-eb44-6bad181167a2"
      },
      "execution_count": null,
      "outputs": [
        {
          "output_type": "stream",
          "name": "stdout",
          "text": [
            "Statistical Parameters of the Novel \"Perekhresni stezhky\" (\"The   Cross-Paths\") by Ivan Franko: This paper provides a comprehensive statistical analysis of the novel \"Perekhresni stezhky\" (\"The Cross-Paths\") by Ivan Franko. It is the first time that such a statistical characterization is presented for a work of Ukrainian literature. The paper examines the distribution of word-forms based on their size and applies the linguistic laws of Zipf-Mandelbrot and Altmann-Menzerath in its analysis. Reading this paper would provide insights into the structure of the novel and its language to readers interested in Ukrainian literature.\n",
            "Cascaded Markov Models: This paper presents a new approach to partial parsing of context-free structures, based on Markov Models. It provides an empirical evaluation of the method which yields very good results for NP/PP chunking of German newspaper texts. The paper is therefore useful for anyone interested in automatic text processing and natural language understanding.\n",
            "A Computational Memory and Processing Model for Processing for Prosody: This paper presents a computational memory and processing model for prosody that is based on a model of limited attention and working memory. It describes how the system produces prosody in three different styles – child-like, adult expressive, and knowledgeable – and how varying the attentional parameter in the simulations affects the intonational contours with which a text is uttered. The paper also explores the stylistic and individual variety found in natural prosody that the limited resource approach captures, providing readers with a more complete understanding of the complexities of prosody. Therefore, readers should read this paper to gain a better understanding of how prosody is linked to information in a text, and how this information is processed by a speaker.\n",
            "Multi-document Biography Summarization: This paper describes a new system for generating multi-document biographies based on sentence classification and information retrieval techniques. This system was evaluated in the DUC2004 competition and achieved a top performance in task 5-short summaries focused by person questions. Reading this paper will provide insights into the development of a biography summarization system and its effective application.\n",
            "Dependency Treebanks: Methods, Annotation Schemes and Tools: This paper provides an overview of the current methods and tools used in dependency treebanks, which are resources used for natural language processing tasks such as part-of-speech tagging and parsing. It is an essential read for anyone interested in understanding the methods, annotation schemes, and tools used in producing these resources.\n",
            "Choosing the Word Most Typical in Context Using a Lexical Co-occurrence   Network: This paper presents a statistical approach to lexical choice - choosing the synonym most typical or expected in context. By using lexical co-occurrence networks and analyzing a large corpus, the paper shows that second-order co-occurrence relations improve the performance of lexical choice programs. It is worth reading to learn more about this new approach to lexical choice and its potential applications.\n",
            "Representing Text Chunks: This paper examines the influence of seven different data representations for recognizing noun phrase chunks. It shows that the choice of data representation has a minor influence on chunking performance, but can improve the best published chunking results when equipped with the most suitable data representation. This paper is worth reading for anyone interested in preprocessing steps for parsing, information extraction and information retrieval.\n",
            "State of the Art, Evaluation and Recommendations regarding \"Document   Processing and Visualization Techniques\": This paper presents the results of an extensive survey of document processing and visualization techniques associated with text mining. It provides a detailed description of the current state-of-the-art and practice, a roadmap for follow-up research in the identified areas, and recommendations for anticipated technological development in the domain of text mining. Therefore, it is a valuable resource for anyone interested in research and development related to text mining.\n",
            "Is Word Sense Disambiguation just one more NLP task?: This paper provides a comparison between POS tagging and WSD, arguing that they are unrelated and have different goals. It also provides an argument for the reintegration of related sub-tasks that have been separated for evaluation. This paper offers a unique perspective on the relationship between the two tasks and provides insights for further research in the field of NLP.\n",
            "Translating near-synonyms: Possibilities and preferences in the   interlingua: This paper provides an in-depth exploration of the importance of representing possibilities and preferences in an interlingual representation. It argues that this is essential for faithful translation, as it enables the analysis and generation of nuance. Furthermore, the paper examines how the representation of the meaning of words, particularly near-synonyms, is critical for expressing the nuances conveyed in different contexts. This paper is useful for anyone interested in the details of interlingual representation, and provides valuable insight into the nuances of near-synonyms in translation.\n"
          ]
        }
      ]
    }
  ]
}